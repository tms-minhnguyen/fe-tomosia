{
  "cells": [
    {
      "cell_type": "code",
      "execution_count": null,
      "metadata": {
        "id": "DXPMB4syxTCF"
      },
      "outputs": [],
      "source": [
        "#@title Colab-VSCode\n",
        "#@markdown Run this cell to access VS Code on your browser powered by Google Colab.\n",
        "\n",
        "#@markdown *This service uses [ngrok](https://ngrok.com/) to generate a URL for VS Code. To proceed, enter your [ngrok auth token](https://dashboard.ngrok.com/get-started/your-authtoken) below or [sign up](https://dashboard.ngrok.com/signup) for a ngrok account.*\n",
        "\n",
        "# Install colabcode and ngrok\n",
        "!pip install --quiet colabcode pyngrok &> /dev/null\n",
        "\n",
        "import random\n",
        "import string\n",
        "\n",
        "from colabcode import ColabCode\n",
        "from pyngrok import ngrok\n",
        "\n",
        "ngrok_authtoken = \"2tynHTUZaE6qchA0RZ4G9eAB0Cl_2M6mohHZu8aCTj1MZmjmi\" #@param {type: \"string\"}\n",
        "\n",
        "#@markdown Enabling password for Ngrok is highly recommended. Otherwise, anyone with the ngrok URL will be able to access the environment.\n",
        "enable_password = True #@param {type:\"boolean\"}\n",
        "#@markdown Mount Google Drive to the path `/content/drive`\n",
        "mount_gdrive = False #@param {type:\"boolean\"}\n",
        "\n",
        "password = ''.join(random.choice(string.ascii_lowercase) for i in range(8))\n",
        "\n",
        "if enable_password and mount_gdrive:\n",
        "  ngrok.set_auth_token(ngrok_authtoken)\n",
        "  print(\"Password to access Ngrok is >>>\", password, \"<<<\")\n",
        "  ColabCode(port=10000, password=password, mount_drive=True)\n",
        "elif enable_password and not mount_gdrive:\n",
        "  ngrok.set_auth_token(ngrok_authtoken)\n",
        "  print(\"Password to access Ngrok is >>>\", password, \"<<<\")\n",
        "  ColabCode(port=10000, password=password)\n",
        "elif not enable_password and mount_gdrive:\n",
        "  ColabCode(port=10000, mount_drive=True)\n",
        "else:\n",
        "  ColabCode(port=10000)\n",
        "\n",
        "#@markdown *If you want to access the underlying GPU, change your runtime type to GPU before running. Check [colab-vscode documentation](https://github.com/derekchia/colab-vscode) for more details.*"
      ]
    }
  ],
  "metadata": {
    "accelerator": "GPU",
    "colab": {
      "name": "colab-vscode",
      "provenance": []
    },
    "kernelspec": {
      "display_name": "Python 3",
      "name": "python3"
    }
  },
  "nbformat": 4,
  "nbformat_minor": 0
}